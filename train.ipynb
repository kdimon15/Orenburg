{
 "cells": [
  {
   "cell_type": "code",
   "execution_count": 1,
   "metadata": {},
   "outputs": [],
   "source": [
    "import pandas as pd\n",
    "import seaborn as sns\n",
    "import matplotlib.pyplot as plt\n",
    "from sklearn.model_selection import train_test_split, StratifiedKFold\n",
    "from catboost import CatBoostClassifier, Pool\n",
    "from sklearn import tree\n",
    "import numpy as np\n",
    "from sklearn.metrics import recall_score, precision_score\n",
    "from sklearn.preprocessing import LabelEncoder\n",
    "from sklearn.ensemble import RandomForestClassifier\n",
    "import random\n",
    "import sklearn\n",
    "\n",
    "pd.options.display.max_columns = 100\n",
    "pd.options.display.max_rows = 200\n",
    "random.seed = 6342\n",
    "np.random.seed = 4342\n",
    "\n",
    "%matplotlib inline"
   ]
  },
  {
   "cell_type": "code",
   "execution_count": 2,
   "metadata": {},
   "outputs": [],
   "source": [
    "bad_cols = []\n",
    "\n",
    "train = pd.read_csv('data/train.csv').drop(bad_cols, axis=1)\n",
    "test = pd.read_csv('data/test.csv').drop(bad_cols, axis=1)\n",
    "sample = pd.read_csv('data/sample_solution.csv')"
   ]
  },
  {
   "cell_type": "code",
   "execution_count": 3,
   "metadata": {},
   "outputs": [],
   "source": [
    "for df in train, test:\n",
    "    df['month_id'] = pd.to_datetime(df['month_id'])\n",
    "    df['carts_created_at'] = pd.to_datetime(df['carts_created_at'])\n",
    "    df['time_diff'] = (df['month_id'] - df['carts_created_at']).astype(\"timedelta64[D]\")\n",
    "    df.drop(['month_id', 'carts_created_at'], axis=1, inplace=True)\n",
    "    df['gender'] = df['gender'].fillna(-1)\n",
    "    df['gender'] = df['gender'].astype(np.int8)\n",
    "    \n",
    "    df['procentage_completed_hw'] = df['completed_hw'] / df['interacted_hw']\n",
    "    df['procentage_failed_hw'] = df['failed_hw'] / df['interacted_hw']"
   ]
  },
  {
   "cell_type": "code",
   "execution_count": 4,
   "metadata": {},
   "outputs": [],
   "source": [
    "all_dicts = {}\n",
    "\n",
    "cat_cols = ['communication_type', 'payment_type', 'promo', 'gender', 'ABC']\n",
    "\n",
    "for x in cat_cols:\n",
    "    all_dicts[x] = LabelEncoder().fit(train[x])\n",
    "    train[x] = all_dicts[x].transform(train[x])\n",
    "    test[x] = all_dicts[x].transform(test[x])"
   ]
  },
  {
   "cell_type": "code",
   "execution_count": 5,
   "metadata": {},
   "outputs": [],
   "source": [
    "mass_object = train.dtypes[train.dtypes == \"object\"].index.values.tolist()\n",
    "\n",
    "train = train.drop(mass_object, axis=1)\n",
    "features = train\n",
    "target = train['target']\n",
    "\n",
    "test = test.drop(mass_object, axis=1)"
   ]
  },
  {
   "cell_type": "code",
   "execution_count": 6,
   "metadata": {},
   "outputs": [],
   "source": [
    "for x in range(6):\n",
    "    new = features[features['target']==x].groupby('program_id')['target'].agg(['count'])\n",
    "    new.columns = ['program_info_'+str(x)]\n",
    "    test = test.merge(new, how='left', left_on='program_id', right_index=True)\n",
    "test['program_info_count'] = test[[f'program_info_{x}' for x in range(6)]].sum(axis=1)\n",
    "\n",
    "for x in range(6):\n",
    "    test[f'program_info_{x}'] /= test['program_info_count']\n",
    "\n",
    "for x in range(6):\n",
    "    new = features[features['target']==x].groupby('student_id')['target'].agg(['count'])\n",
    "    new.columns = ['student_info_'+str(x)]\n",
    "    test = test.merge(new, how='left', left_on='student_id', right_index=True)\n",
    "test['student_info_count'] = test[[f'student_info_{x}' for x in range(6)]].sum(axis=1)\n",
    "\n",
    "for x in range(6):\n",
    "    test[f'student_info_{x}'] /= test['student_info_count']"
   ]
  },
  {
   "cell_type": "code",
   "execution_count": 7,
   "metadata": {},
   "outputs": [
    {
     "name": "stdout",
     "output_type": "stream",
     "text": [
      "0.9061660956083841\n",
      "0.9036268326062735\n",
      "0.9085509392769997\n",
      "0.8949287937557883\n",
      "0.9117831561834415\n"
     ]
    },
    {
     "data": {
      "text/plain": [
       "'Final_score: 0.9050111634861775'"
      ]
     },
     "execution_count": 7,
     "metadata": {},
     "output_type": "execute_result"
    }
   ],
   "source": [
    "strat_kfold = StratifiedKFold(n_splits=5, shuffle=True, random_state=777)\n",
    "scores = []\n",
    "test_preds = np.zeros((len(test), 6))\n",
    "\n",
    "for fold, (train_index, valid_index) in enumerate(strat_kfold.split(features, target)):\n",
    "    X_train, y_train = features.iloc[train_index], target[train_index]\n",
    "    X_valid, y_valid = features.iloc[valid_index], target[valid_index]\n",
    "    \n",
    "    for x in range(6):\n",
    "        new = X_train[X_train['target']==x].groupby('program_id')['target'].agg(['count'])\n",
    "        new.columns = ['program_info_'+str(x)]\n",
    "        X_train = X_train.merge(new, how='left', left_on='program_id', right_index=True)\n",
    "        X_valid = X_valid.merge(new, how='left', left_on='program_id', right_index=True)\n",
    "        X_train.loc[X_train['target']==x, f'program_info_{x}'] -= 1\n",
    "    X_train['program_info_count'] = X_train[[f'program_info_{x}' for x in range(6)]].sum(axis=1)\n",
    "    X_valid['program_info_count'] = X_valid[[f'program_info_{x}' for x in range(6)]].sum(axis=1)\n",
    "    \n",
    "    for x in range(6):\n",
    "        X_train[f'program_info_{x}'] /= X_train['program_info_count']\n",
    "        X_valid[f'program_info_{x}'] /= X_valid['program_info_count']\n",
    "        \n",
    "    X_train[[f'program_info_{x}' for x in range(6)]] = X_train[[f'program_info_{x}' for x in range(6)]].fillna(0)\n",
    "    \n",
    "    \n",
    "    for x in range(6):\n",
    "        new = X_train[X_train['target']==x].groupby('student_id')['target'].agg(['count'])\n",
    "        new.columns = ['student_info_'+str(x)]\n",
    "        X_train = X_train.merge(new, how='left', left_on='student_id', right_index=True)\n",
    "        X_valid = X_valid.merge(new, how='left', left_on='student_id', right_index=True)\n",
    "        X_train.loc[X_train['target']==x, f'student_info_{x}'] -= 1\n",
    "    X_train['student_info_count'] = X_train[[f'student_info_{x}' for x in range(6)]].sum(axis=1)\n",
    "    X_valid['student_info_count'] = X_valid[[f'student_info_{x}' for x in range(6)]].sum(axis=1)\n",
    "    \n",
    "    for x in range(6):\n",
    "        X_train[f'student_info_{x}'] /= X_train['student_info_count']\n",
    "        X_valid[f'student_info_{x}'] /= X_valid['student_info_count']\n",
    "        \n",
    "    X_train[[f'student_info_{x}' for x in range(6)]] = X_train[[f'student_info_{x}' for x in range(6)]].fillna(0)\n",
    "    \n",
    "    \n",
    "    X_train, X_valid = X_train.drop('target', axis=1), X_valid.drop('target', axis=1)\n",
    "    \n",
    "\n",
    "    # model = CatBoostClassifier(\n",
    "    #     # iterations=1000,\n",
    "    #     #loss_function='MultiClassOneVsAll',\n",
    "    #     # learning_rate=0.03,\n",
    "    #     # depth=4,\n",
    "    #     random_seed=5443,\n",
    "    #     # eval_metric='AUC',\n",
    "    #     # class_weights=[1, 2, 2, 2, 2, 2],\n",
    "    #     early_stopping_rounds=200\n",
    "    # )\n",
    "    # model.fit(X_train, y_train, verbose=100)\n",
    "    # model.fit(Pool(X_train, y_train, cat_features=cat_cols),\n",
    "    #           eval_set=Pool(X_valid, y_valid, cat_features=cat_cols),\n",
    "    #           verbose=100, plot=True)\n",
    "    # valid_preds = model.predict(X_valid)\n",
    "    # scores.append(0.2* recall_score(y_valid, valid_preds, average='macro') + 0.8 * precision_score(y_valid, valid_preds, average='macro'))\n",
    "    \n",
    "    # test_preds += model.predict_proba(test)\n",
    "    \n",
    "    # clf = CatBoostClassifier(random_seed=0)\n",
    "    # clf.fit(Pool(X_train.fillna(0), y_train), verbose=False)\n",
    "    # pred = clf.predict(X_valid.fillna(0))\n",
    "    \n",
    "    very_bad = ['hw_leader', 'procentage_failed_hw', 'failed_hw', 'spent_time_to_complete_hw']\n",
    "    \n",
    "    # clf = CatBoostClassifier(\n",
    "    #     random_seed=1,\n",
    "    #     depth=5,\n",
    "    #     iterations=2000\n",
    "    # )\n",
    "    # clf.fit(X_train.fillna(0), y_train, verbose=500)\n",
    "    # pred = clf.predict(X_valid.fillna(0))\n",
    "    # feature_imp += clf.get_feature_importance()\n",
    "    \n",
    "    clf = RandomForestClassifier(\n",
    "        random_state=0\n",
    "    )\n",
    "    \n",
    "    clf.fit(X_train.fillna(0).drop(very_bad, axis=1), y_train)\n",
    "    pred = clf.predict(X_valid.fillna(0).drop(very_bad, axis=1))\n",
    "    \n",
    "    scores.append(0.2* recall_score(y_valid, pred, average='macro') + 0.8* precision_score(y_valid, pred, average='macro'))\n",
    "    print(scores[-1])\n",
    "    \n",
    "    test_preds += clf.predict_proba(test.fillna(0).drop(very_bad, axis=1))\n",
    "    \n",
    "f'Final_score: {np.mean(scores)}'"
   ]
  },
  {
   "cell_type": "code",
   "execution_count": 8,
   "metadata": {},
   "outputs": [],
   "source": [
    "sample['target'] = test_preds.argmax(axis=1)\n",
    "sample.to_csv('submit.csv', index=False)"
   ]
  },
  {
   "cell_type": "code",
   "execution_count": 9,
   "metadata": {},
   "outputs": [
    {
     "data": {
      "text/plain": [
       "0    74550\n",
       "1     5684\n",
       "4     1441\n",
       "5     1389\n",
       "3     1278\n",
       "2      655\n",
       "Name: target, dtype: int64"
      ]
     },
     "execution_count": 9,
     "metadata": {},
     "output_type": "execute_result"
    }
   ],
   "source": [
    "sample['target'].value_counts()"
   ]
  },
  {
   "cell_type": "code",
   "execution_count": null,
   "metadata": {},
   "outputs": [],
   "source": []
  }
 ],
 "metadata": {
  "kernelspec": {
   "display_name": "Python 3.8.12 ('venv': venv)",
   "language": "python",
   "name": "python3"
  },
  "language_info": {
   "codemirror_mode": {
    "name": "ipython",
    "version": 3
   },
   "file_extension": ".py",
   "mimetype": "text/x-python",
   "name": "python",
   "nbconvert_exporter": "python",
   "pygments_lexer": "ipython3",
   "version": "3.8.12"
  },
  "orig_nbformat": 4,
  "vscode": {
   "interpreter": {
    "hash": "db147ec74f50061c8a07e09b0fbc82f91a73c79e1dd6545891d28880c7a16862"
   }
  }
 },
 "nbformat": 4,
 "nbformat_minor": 2
}
